{
 "cells": [
  {
   "cell_type": "code",
   "execution_count": 1,
   "metadata": {
    "ExecuteTime": {
     "end_time": "2020-11-03T08:22:44.337549Z",
     "start_time": "2020-11-03T08:22:37.429017Z"
    }
   },
   "outputs": [
    {
     "name": "stdout",
     "output_type": "stream",
     "text": [
      "Welcome to JupyROOT 6.20/06\n"
     ]
    }
   ],
   "source": [
    "import ROOT as R\n",
    "import pandas as pd\n",
    "import numpy as np\n",
    "\n",
    "R.ROOT.EnableImplicitMT()"
   ]
  },
  {
   "cell_type": "code",
   "execution_count": 2,
   "metadata": {
    "ExecuteTime": {
     "end_time": "2020-11-03T08:22:44.402399Z",
     "start_time": "2020-11-03T08:22:44.387999Z"
    }
   },
   "outputs": [],
   "source": [
    "quark = ['Wjets_HT_vjet0_quark', 'DY_vjet0_quark','top_vjet0_quark',\n",
    "                                'VV_vjet0_quark','Vg_vjet0_quark','VgS_vjet0_quark',\n",
    "                                'VVV_vjet0_quark','VBS_vjet0_quark','VBF-V_vjet0_quark']\n",
    "\n",
    "\n",
    "gluon = ['Wjets_HT_vjet0_gluon','DY_vjet0_gluon','top_vjet0_gluon',\n",
    "                                'VV_vjet0_gluon','Vg_vjet0_gluon','VgS_vjet0_gluon',\n",
    "                                'VVV_vjet0_gluon','VBS_vjet0_gluon','VBF-V_vjet0_gluon']"
   ]
  },
  {
   "cell_type": "code",
   "execution_count": 10,
   "metadata": {
    "ExecuteTime": {
     "end_time": "2020-11-03T08:24:39.935187Z",
     "start_time": "2020-11-03T08:24:27.097783Z"
    }
   },
   "outputs": [
    {
     "name": "stdout",
     "output_type": "stream",
     "text": [
      "Wjets_HT_vjet0_quark\n",
      "DY_vjet0_quark\n",
      "top_vjet0_quark\n",
      "VV_vjet0_quark\n",
      "Vg_vjet0_quark\n",
      "VgS_vjet0_quark\n",
      "VVV_vjet0_quark\n",
      "VBS_vjet0_quark\n",
      "VBF-V_vjet0_quark\n",
      "Wjets_HT_vjet0_gluon\n",
      "DY_vjet0_gluon\n",
      "top_vjet0_gluon\n",
      "VV_vjet0_gluon\n",
      "Vg_vjet0_gluon\n",
      "VgS_vjet0_gluon\n",
      "VVV_vjet0_gluon\n",
      "VBS_vjet0_gluon\n",
      "VBF-V_vjet0_gluon\n"
     ]
    }
   ],
   "source": [
    "dfs_quark = []\n",
    "dfs_gluon = []\n",
    "\n",
    "for q in quark:\n",
    "    print(q)\n",
    "    rdf = R.RDataFrame(\"res_wjetcr/tree/tree_\"+q, \"plots_test_qgl.root\")\n",
    "    df = pd.DataFrame(rdf.AsNumpy({\"vjet_0_qgl_res\"}))\n",
    "    df[\"sample\"] = q\n",
    "    dfs_quark.append(df)\n",
    "    \n",
    "for g in gluon:\n",
    "    print(g)\n",
    "    rdf = R.RDataFrame(\"res_wjetcr/tree/tree_\"+g, \"plots_test_qgl.root\")\n",
    "    df = pd.DataFrame(rdf.AsNumpy({\"vjet_0_qgl_res\"}))\n",
    "    df[\"sample\"] = g\n",
    "    dfs_gluon.append(df)\n",
    "    \n",
    "    "
   ]
  },
  {
   "cell_type": "code",
   "execution_count": 11,
   "metadata": {
    "ExecuteTime": {
     "end_time": "2020-11-03T08:24:55.852088Z",
     "start_time": "2020-11-03T08:24:55.786625Z"
    }
   },
   "outputs": [],
   "source": [
    "dfQ = pd.concat(dfs_quark)\n",
    "dfG = pd.concat(dfs_gluon)"
   ]
  },
  {
   "cell_type": "code",
   "execution_count": 12,
   "metadata": {
    "ExecuteTime": {
     "end_time": "2020-11-03T08:25:43.406574Z",
     "start_time": "2020-11-03T08:25:41.923272Z"
    }
   },
   "outputs": [],
   "source": [
    "rdf = R.RDataFrame(\"res_wjetcr/tree/tree_Fake\", \"plots_test_qgl.root\")\n",
    "dfOthers = pd.DataFrame(rdf.AsNumpy({\"vjet_0_qgl_res\"}))\n",
    "\n",
    "rdf = R.RDataFrame(\"res_wjetcr/tree/tree_DATA\", \"plots_test_qgl.root\")\n",
    "dfData = pd.DataFrame(rdf.AsNumpy({\"vjet_0_qgl_res\"}))"
   ]
  },
  {
   "cell_type": "code",
   "execution_count": 25,
   "metadata": {
    "ExecuteTime": {
     "end_time": "2020-11-02T23:14:26.807573Z",
     "start_time": "2020-11-02T23:14:26.792101Z"
    }
   },
   "outputs": [],
   "source": [
    "rdf = R.RDataFrame(\"res_wjetcr/tree/tree_Wjets_HT_vbs0_gluon\", \"plots_test_qgl.root\")"
   ]
  },
  {
   "cell_type": "code",
   "execution_count": 15,
   "metadata": {
    "ExecuteTime": {
     "end_time": "2020-11-03T08:27:46.257823Z",
     "start_time": "2020-11-03T08:27:42.021374Z"
    }
   },
   "outputs": [],
   "source": [
    "deltas = [1.1,1.2,1.3,1.4]\n",
    "for i, d in enumerate(deltas):\n",
    "    dfG[\"vjet_0_qgl_res_\"+str(i)] = dfG.vjet_0_qgl_res * d"
   ]
  },
  {
   "cell_type": "code",
   "execution_count": 19,
   "metadata": {
    "ExecuteTime": {
     "end_time": "2020-11-03T08:35:43.553882Z",
     "start_time": "2020-11-03T08:35:43.533023Z"
    }
   },
   "outputs": [],
   "source": [
    "totMC = np.hstack([dfG['vjet_0_qgl_res'],dfQ['vjet_0_qgl_res'],dfOthers['vjet_0_qgl_res']])"
   ]
  },
  {
   "cell_type": "code",
   "execution_count": 22,
   "metadata": {
    "ExecuteTime": {
     "end_time": "2020-11-03T08:36:19.648746Z",
     "start_time": "2020-11-03T08:36:19.637054Z"
    }
   },
   "outputs": [],
   "source": [
    "totData = dfData['vjet_0_qgl_res'].values"
   ]
  },
  {
   "cell_type": "code",
   "execution_count": null,
   "metadata": {
    "ExecuteTime": {
     "end_time": "2020-11-03T08:41:57.082037Z",
     "start_time": "2020-11-03T08:41:55.562162Z"
    }
   },
   "outputs": [],
   "source": [
    "hMC = np.histogram(totMC, 50,range=(0,1))\n",
    "hData = np.histogram(totData, 50,range=(0,1))\n",
    "hRatio = hData[0] / hMC[0]"
   ]
  },
  {
   "cell_type": "code",
   "execution_count": 28,
   "metadata": {
    "ExecuteTime": {
     "end_time": "2020-11-03T08:37:45.960156Z",
     "start_time": "2020-11-03T08:37:38.894735Z"
    }
   },
   "outputs": [],
   "source": [
    "import matplotlib.pyplot as plt"
   ]
  },
  {
   "cell_type": "code",
   "execution_count": 37,
   "metadata": {
    "ExecuteTime": {
     "end_time": "2020-11-03T08:42:57.902785Z",
     "start_time": "2020-11-03T08:42:57.622228Z"
    }
   },
   "outputs": [
    {
     "data": {
      "text/plain": [
       "[<matplotlib.lines.Line2D at 0x7f01f21ca850>]"
      ]
     },
     "execution_count": 37,
     "metadata": {},
     "output_type": "execute_result"
    },
    {
     "data": {
      "image/png": "[encoded data removed]",
      "text/plain": [
       "<Figure size 432x288 with 1 Axes>"
      ]
     },
     "metadata": {
      "needs_background": "light"
     },
     "output_type": "display_data"
    }
   ],
   "source": [
    "plt.plot(hMC[1][:-1], hRatio)"
   ]
  },
  {
   "cell_type": "code",
   "execution_count": 6,
   "metadata": {
    "ExecuteTime": {
     "end_time": "2020-11-02T17:41:44.738258Z",
     "start_time": "2020-11-02T17:41:44.613512Z"
    }
   },
   "outputs": [],
   "source": [
    "quarks_hs = []\n",
    "for q in quark:\n",
    "    h = f.Get('res_wjetcr/vjet_0_qgl_res_morebins/histo_' + q)\n",
    "    quarks_hs.append(h)\n",
    "    \n",
    "gluons_hs = []\n",
    "for g in gluon:\n",
    "    h = f.Get('res_wjetcr/vjet_0_qgl_res_morebins/histo_' + g)\n",
    "    gluons_hs.append(h)\n",
    "    \n",
    "\n",
    "hQ = quarks_hs[0].Clone(\"h_quark\")\n",
    "for q in quarks_hs[1:]:\n",
    "    hQ.Add(q)\n",
    "    \n",
    "hG = gluons_hs[0].Clone(\"h_gluon\")\n",
    "for q in gluons_hs[1:]:\n",
    "    hG.Add(q)\n",
    "    \n",
    "hData = f.Get('res_wjetcr/vjet_0_qgl_res_morebins/histo_DATA')\n",
    "hOthers = f.Get('res_wjetcr/vjet_0_qgl_res_morebins/histo_Fake')"
   ]
  },
  {
   "cell_type": "code",
   "execution_count": 6,
   "metadata": {
    "ExecuteTime": {
     "end_time": "2020-11-02T17:35:39.743671Z",
     "start_time": "2020-11-02T17:35:39.711521Z"
    }
   },
   "outputs": [
    {
     "data": {
      "text/plain": [
       "True"
      ]
     },
     "execution_count": 6,
     "metadata": {},
     "output_type": "execute_result"
    }
   ],
   "source": [
    "hTotMC = hQ.Clone(\"h_tot_MC\")\n",
    "hTotMC.Add(hG)\n",
    "hTotMC.Add(hOthers)"
   ]
  },
  {
   "cell_type": "code",
   "execution_count": 7,
   "metadata": {
    "ExecuteTime": {
     "end_time": "2020-11-02T17:35:44.674455Z",
     "start_time": "2020-11-02T17:35:44.227379Z"
    }
   },
   "outputs": [
    {
     "name": "stderr",
     "output_type": "stream",
     "text": [
      "Warning in <TGraphAsymmErrors::Divide>: Number of graph points is different than histogram bins - 6 points have been skipped\n"
     ]
    },
    {
     "data": {
      "image/png": "[encoded data removed]",
      "text/plain": [
       "<IPython.core.display.Image object>"
      ]
     },
     "metadata": {},
     "output_type": "display_data"
    }
   ],
   "source": [
    "c= R.TCanvas()\n",
    "ratio = R.TRatioPlot(hData, hTotMC)\n",
    "ratio.Draw()\n",
    "c.Draw()"
   ]
  },
  {
   "cell_type": "code",
   "execution_count": 7,
   "metadata": {
    "ExecuteTime": {
     "end_time": "2020-11-02T17:41:48.240539Z",
     "start_time": "2020-11-02T17:41:48.228606Z"
    }
   },
   "outputs": [],
   "source": [
    "def morphing(h, delta):\n",
    "    new_histo = h.Clone(\"h_morphing_\"+str(delta))\n",
    "    new_histo.Reset()\n",
    "    \n",
    "    #exclude bin1 that is the underflow\n",
    "    for i in range(2, h.GetNbinsX()+1):\n",
    "        x = h.GetBinCenter(i)\n",
    "        newX = x*delta\n",
    "        if newX > 1: newX= 0.99\n",
    "        new_bin = new_histo.FindBin(newX)\n",
    "        new_histo.SetBinContent(new_bin, h.GetBinContent(i))\n",
    "        \n",
    "        print(x, newX, i, new_bin)\n",
    "    \n",
    "    return new_histo"
   ]
  },
  {
   "cell_type": "code",
   "execution_count": 14,
   "metadata": {
    "ExecuteTime": {
     "end_time": "2020-11-02T17:50:58.095037Z",
     "start_time": "2020-11-02T17:50:58.037466Z"
    }
   },
   "outputs": [
    {
     "name": "stdout",
     "output_type": "stream",
     "text": [
      "-0.07857142857142857 -0.09035714285714284 2 1\n",
      "-0.06428571428571428 -0.07392857142857141 3 2\n",
      "-0.05 -0.057499999999999996 4 3\n",
      "-0.03571428571428571 -0.041071428571428564 5 5\n",
      "-0.021428571428571422 -0.024642857142857133 6 6\n",
      "-0.007142857142857147 -0.008214285714285719 7 7\n",
      "0.0071428571428571435 0.008214285714285714 8 8\n",
      "0.021428571428571436 0.02464285714285715 9 9\n",
      "0.035714285714285726 0.041071428571428585 10 10\n",
      "0.05000000000000002 0.057500000000000016 11 12\n",
      "0.06428571428571431 0.07392857142857144 12 13\n",
      "0.07857142857142857 0.09035714285714284 13 14\n",
      "0.09285714285714286 0.10678571428571428 14 15\n",
      "0.10714285714285715 0.12321428571428572 15 16\n",
      "0.12142857142857144 0.13964285714285715 16 17\n",
      "0.13571428571428573 0.15607142857142858 17 18\n",
      "0.15000000000000002 0.17250000000000001 18 20\n",
      "0.1642857142857143 0.18892857142857145 19 21\n",
      "0.1785714285714286 0.20535714285714288 20 22\n",
      "0.1928571428571429 0.2217857142857143 21 23\n",
      "0.20714285714285718 0.23821428571428574 22 24\n",
      "0.22142857142857147 0.25464285714285717 23 25\n",
      "0.23571428571428577 0.27107142857142863 24 26\n",
      "0.25 0.2875 25 28\n",
      "0.26428571428571423 0.3039285714285713 26 29\n",
      "0.2785714285714286 0.32035714285714284 27 30\n",
      "0.2928571428571428 0.3367857142857142 28 31\n",
      "0.30714285714285716 0.3532142857142857 29 32\n",
      "0.3214285714285714 0.36964285714285705 30 33\n",
      "0.33571428571428574 0.38607142857142857 31 35\n",
      "0.35 0.40249999999999997 32 36\n",
      "0.3642857142857143 0.41892857142857143 33 37\n",
      "0.37857142857142856 0.43535714285714283 34 38\n",
      "0.3928571428571429 0.4517857142857143 35 39\n",
      "0.40714285714285714 0.4682142857142857 36 40\n",
      "0.4214285714285715 0.48464285714285715 37 41\n",
      "0.4357142857142857 0.5010714285714285 38 43\n",
      "0.45000000000000007 0.5175000000000001 39 44\n",
      "0.4642857142857143 0.5339285714285714 40 45\n",
      "0.47857142857142865 0.5503571428571429 41 46\n",
      "0.4928571428571429 0.5667857142857142 42 47\n",
      "0.5071428571428572 0.5832142857142858 43 48\n",
      "0.5214285714285715 0.5996428571428571 44 49\n",
      "0.5357142857142858 0.6160714285714286 45 51\n",
      "0.55 0.6325 46 52\n",
      "0.5642857142857144 0.6489285714285715 47 53\n",
      "0.5785714285714286 0.6653571428571429 48 54\n",
      "0.5928571428571429 0.6817857142857142 49 55\n",
      "0.6071428571428572 0.6982142857142858 50 56\n",
      "0.6214285714285714 0.7146428571428571 51 58\n",
      "0.6357142857142858 0.7310714285714286 52 59\n",
      "0.65 0.7474999999999999 53 60\n",
      "0.6642857142857144 0.7639285714285715 54 61\n",
      "0.6785714285714286 0.7803571428571429 55 62\n",
      "0.692857142857143 0.7967857142857143 56 63\n",
      "0.7071428571428572 0.8132142857142857 57 64\n",
      "0.7214285714285715 0.8296428571428572 58 66\n",
      "0.7357142857142858 0.8460714285714286 59 67\n",
      "0.7500000000000001 0.8625 60 68\n",
      "0.7642857142857143 0.8789285714285714 61 69\n",
      "0.7785714285714287 0.895357142857143 62 70\n",
      "0.7928571428571429 0.9117857142857143 63 71\n",
      "0.8071428571428573 0.9282142857142858 64 72\n",
      "0.8214285714285715 0.9446428571428571 65 74\n",
      "0.8357142857142857 0.9610714285714286 66 75\n",
      "0.8500000000000001 0.9775 67 76\n",
      "0.8642857142857143 0.9939285714285714 68 77\n",
      "0.8785714285714287 0.99 69 77\n",
      "0.8928571428571429 0.99 70 77\n",
      "0.9071428571428571 0.99 71 77\n",
      "0.9214285714285716 0.99 72 77\n",
      "0.9357142857142858 0.99 73 77\n",
      "0.9500000000000001 0.99 74 77\n",
      "0.9642857142857143 0.99 75 77\n",
      "0.9785714285714288 0.99 76 77\n",
      "0.992857142857143 0.99 77 77\n"
     ]
    }
   ],
   "source": [
    "hGnew = morphing(hG, 1.15)"
   ]
  },
  {
   "cell_type": "code",
   "execution_count": 12,
   "metadata": {
    "ExecuteTime": {
     "end_time": "2020-11-02T17:45:43.817578Z",
     "start_time": "2020-11-02T17:45:43.766381Z"
    }
   },
   "outputs": [
    {
     "data": {
      "image/png": "[encoded data removed]",
      "text/plain": [
       "<IPython.core.display.Image object>"
      ]
     },
     "metadata": {},
     "output_type": "display_data"
    }
   ],
   "source": [
    "c= R.TCanvas()\n",
    "hG.Draw()\n",
    "hGnew.Draw(\"same\")\n",
    "hGnew.SetLineColor(R.kRed)\n",
    "c.Draw()"
   ]
  },
  {
   "cell_type": "code",
   "execution_count": 15,
   "metadata": {
    "ExecuteTime": {
     "end_time": "2020-11-02T17:51:03.469464Z",
     "start_time": "2020-11-02T17:51:03.412069Z"
    }
   },
   "outputs": [
    {
     "data": {
      "image/png": "[encoded data removed]",
      "text/plain": [
       "<IPython.core.display.Image object>"
      ]
     },
     "metadata": {},
     "output_type": "display_data"
    }
   ],
   "source": [
    "hTotMC2 = hQ.Clone(\"h_tot_MC2\")\n",
    "hTotMC2.Add(hGnew)\n",
    "hTotMC2.Add(hOthers)\n",
    "\n",
    "hData.Divide(hTotMC2)\n",
    "            \n",
    "c= R.TCanvas()\n",
    "hData.Draw()\n",
    "c.Draw()"
   ]
  },
  {
   "cell_type": "code",
   "execution_count": 13,
   "metadata": {
    "ExecuteTime": {
     "end_time": "2020-11-02T17:36:42.969679Z",
     "start_time": "2020-11-02T17:36:42.921477Z"
    }
   },
   "outputs": [
    {
     "data": {
      "image/png": "[encoded data removed]",
      "text/plain": [
       "<IPython.core.display.Image object>"
      ]
     },
     "metadata": {},
     "output_type": "display_data"
    }
   ],
   "source": [
    "c= R.TCanvas()\n",
    "hGnew.Draw()\n",
    "c.Draw()"
   ]
  },
  {
   "cell_type": "code",
   "execution_count": null,
   "metadata": {},
   "outputs": [],
   "source": []
  }
 ],
 "metadata": {
  "kernelspec": {
   "display_name": "Python 3",
   "language": "python",
   "name": "python3"
  },
  "language_info": {
   "codemirror_mode": {
    "name": "ipython",
    "version": 3
   },
   "file_extension": ".py",
   "mimetype": "text/x-python",
   "name": "python",
   "nbconvert_exporter": "python",
   "pygments_lexer": "ipython3",
   "version": "3.7.6"
  },
  "toc": {
   "base_numbering": 1,
   "nav_menu": {},
   "number_sections": true,
   "sideBar": true,
   "skip_h1_title": false,
   "title_cell": "Table of Contents",
   "title_sidebar": "Contents",
   "toc_cell": false,
   "toc_position": {},
   "toc_section_display": true,
   "toc_window_display": false
  },
  "varInspector": {
   "cols": {
    "lenName": 16,
    "lenType": 16,
    "lenVar": 40
   },
   "kernels_config": {
    "python": {
     "delete_cmd_postfix": "",
     "delete_cmd_prefix": "del ",
     "library": "var_list.py",
     "varRefreshCmd": "print(var_dic_list())"
    },
    "r": {
     "delete_cmd_postfix": ") ",
     "delete_cmd_prefix": "rm(",
     "library": "var_list.r",
     "varRefreshCmd": "cat(var_dic_list()) "
    }
   },
   "types_to_exclude": [
    "module",
    "function",
    "builtin_function_or_method",
    "instance",
    "_Feature"
   ],
   "window_display": false
  }
 },
 "nbformat": 4,
 "nbformat_minor": 4
}
